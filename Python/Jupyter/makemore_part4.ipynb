{
 "cells": [
  {
   "cell_type": "code",
   "execution_count": 1,
   "id": "afcaae2f-a8d9-44ad-ae31-e8452c0f6ec9",
   "metadata": {},
   "outputs": [],
   "source": [
    "# there no change change in the first several cells from last lecture\n"
   ]
  },
  {
   "cell_type": "code",
   "execution_count": 2,
   "id": "e816f81a-04c1-469c-b58c-7b51f61aadff",
   "metadata": {},
   "outputs": [],
   "source": [
    "import torch\n",
    "import torch.nn.functional as F\n",
    "import matplotlib.pyplot as plt # for making figures\n",
    "from IPython.display import display, Math\n",
    "%matplotlib inline"
   ]
  },
  {
   "cell_type": "code",
   "execution_count": 3,
   "id": "67aead25-1595-428e-9bcb-2f7fe9cf75a5",
   "metadata": {},
   "outputs": [
    {
     "name": "stdout",
     "output_type": "stream",
     "text": [
      "32033\n",
      "15\n",
      "['emma', 'olivia', 'ava', 'isabella', 'sophia', 'charlotte', 'mia', 'amelia']\n"
     ]
    }
   ],
   "source": [
    "# read in all the words\n",
    "words = open('names.txt', 'r').read().splitlines()\n",
    "print(len(words))\n",
    "print(max(len(w) for w in words))\n",
    "print(words[:8])"
   ]
  },
  {
   "cell_type": "code",
   "execution_count": 4,
   "id": "55be22a1-a0ea-4f1e-809e-a0412d229b97",
   "metadata": {},
   "outputs": [
    {
     "name": "stdout",
     "output_type": "stream",
     "text": [
      "{1: 'a', 2: 'b', 3: 'c', 4: 'd', 5: 'e', 6: 'f', 7: 'g', 8: 'h', 9: 'i', 10: 'j', 11: 'k', 12: 'l', 13: 'm', 14: 'n', 15: 'o', 16: 'p', 17: 'q', 18: 'r', 19: 's', 20: 't', 21: 'u', 22: 'v', 23: 'w', 24: 'x', 25: 'y', 26: 'z', 0: '.'}\n",
      "27\n"
     ]
    }
   ],
   "source": [
    "# build the vocabulary of characters and mappings to/from integers\n",
    "chars = sorted(list(set(''.join(words))))\n",
    "stoi = {s:i+1 for i,s in enumerate(chars)}\n",
    "stoi['.'] = 0\n",
    "itos = {i:s for s,i in stoi.items()}\n",
    "vocab_size = len(itos)\n",
    "print(itos)\n",
    "print(vocab_size)"
   ]
  },
  {
   "cell_type": "code",
   "execution_count": 5,
   "id": "78d37329-54d5-45b1-9fbe-b8c1fdc765a2",
   "metadata": {},
   "outputs": [
    {
     "name": "stdout",
     "output_type": "stream",
     "text": [
      "torch.Size([182625, 3]) torch.Size([182625])\n",
      "torch.Size([22655, 3]) torch.Size([22655])\n",
      "torch.Size([22866, 3]) torch.Size([22866])\n"
     ]
    }
   ],
   "source": [
    "# build the dataset\n",
    "block_size = 3 # context length: how many characters do we take to predict the next one?\n",
    "\n",
    "def build_dataset(words):  \n",
    "  X, Y = [], []\n",
    "  \n",
    "  for w in words:\n",
    "    context = [0] * block_size\n",
    "    for ch in w + '.':\n",
    "      ix = stoi[ch]\n",
    "      X.append(context)\n",
    "      Y.append(ix)\n",
    "      context = context[1:] + [ix] # crop and append\n",
    "\n",
    "  X = torch.tensor(X)\n",
    "  Y = torch.tensor(Y)\n",
    "  print(X.shape, Y.shape)\n",
    "  return X, Y\n",
    "\n",
    "import random\n",
    "random.seed(42)\n",
    "random.shuffle(words)\n",
    "n1 = int(0.8*len(words))\n",
    "n2 = int(0.9*len(words))\n",
    "\n",
    "Xtr,  Ytr  = build_dataset(words[:n1])     # 80%\n",
    "Xdev, Ydev = build_dataset(words[n1:n2])   # 10%\n",
    "Xte,  Yte  = build_dataset(words[n2:])     # "
   ]
  },
  {
   "cell_type": "code",
   "execution_count": 6,
   "id": "944ea756-bdd7-4ea3-ad65-fa97b35bc737",
   "metadata": {},
   "outputs": [],
   "source": [
    "# ok biolerplate done, now we get to the action:\n"
   ]
  },
  {
   "cell_type": "code",
   "execution_count": 7,
   "id": "1fb96e01-ca1e-4bc9-9395-3fc2c3fce344",
   "metadata": {},
   "outputs": [],
   "source": [
    "# utility function we will use later when comparing manual gradients to PyTorch gradients\n",
    "def cmp(s, dt, t):\n",
    "  ex = torch.all(dt == t.grad).item()\n",
    "  app = torch.allclose(dt, t.grad)\n",
    "  maxdiff = (dt - t.grad).abs().max().item()\n",
    "  print(f'{s:15s} | exact: {str(ex):5s} | approximate: {str(app):5s} | maxdiff: {maxdiff}')\n"
   ]
  },
  {
   "cell_type": "code",
   "execution_count": 8,
   "id": "e2696ebe-e6bf-4dc0-a88c-91b39427870b",
   "metadata": {},
   "outputs": [
    {
     "name": "stdout",
     "output_type": "stream",
     "text": [
      "4137\n"
     ]
    }
   ],
   "source": [
    "n_embd = 10 # the dimensionality of the character embedding vectors\n",
    "n_hidden = 64 # the number of neurons in the hidden layer of the MLP\n",
    "\n",
    "g = torch.Generator().manual_seed(2147483647) # for reproducibility\n",
    "C  = torch.randn((vocab_size, n_embd),            generator=g)\n",
    "# Layer 1\n",
    "W1 = torch.randn((n_embd * block_size, n_hidden), generator=g) * (5/3)/((n_embd * block_size)**0.5)\n",
    "b1 = torch.randn(n_hidden,                        generator=g) * 0.1 # using b1 just for fun, it's useless because of BN\n",
    "# Layer 2\n",
    "W2 = torch.randn((n_hidden, vocab_size),          generator=g) * 0.1\n",
    "b2 = torch.randn(vocab_size,                      generator=g) * 0.1\n",
    "# BatchNorm parameters\n",
    "bngain = torch.randn((1, n_hidden))*0.1 + 1.0\n",
    "bnbias = torch.randn((1, n_hidden))*0.1\n",
    "\n",
    "# Note: I am initializating many of these parameters in non-standard ways\n",
    "# because sometimes initializating with e.g. all zeros could mask an incorrect\n",
    "# implementation of the backward pass.\n",
    "\n",
    "parameters = [C, W1, b1, W2, b2, bngain, bnbias]\n",
    "print(sum(p.nelement() for p in parameters)) # number of parameters in total\n",
    "for p in parameters:\n",
    "  p.requires_grad = True"
   ]
  },
  {
   "cell_type": "code",
   "execution_count": 9,
   "id": "2f1d789a-0617-4338-ac48-1677cc022f53",
   "metadata": {},
   "outputs": [],
   "source": [
    "batch_size = 32\n",
    "n = batch_size # a shorter variable also, for convenience\n",
    "# construct a minibatch\n",
    "ix = torch.randint(0, Xtr.shape[0], (batch_size,), generator=g)\n",
    "Xb, Yb = Xtr[ix], Ytr[ix] # batch X,Y"
   ]
  },
  {
   "cell_type": "code",
   "execution_count": 10,
   "id": "b438312d-00c8-420b-b3c8-40d227e071da",
   "metadata": {},
   "outputs": [
    {
     "data": {
      "text/plain": [
       "tensor(3.3416, grad_fn=<NegBackward0>)"
      ]
     },
     "execution_count": 10,
     "metadata": {},
     "output_type": "execute_result"
    }
   ],
   "source": [
    "# forward pass, \"chunkated\" into smaller steps that are possible to backward one at a time\n",
    "\n",
    "emb = C[Xb] # embed the characters into vectors\n",
    "embcat = emb.view(emb.shape[0], -1) # concatenate the vectors\n",
    "# Linear layer 1\n",
    "hprebn = embcat @ W1 + b1 # hidden layer pre-activation\n",
    "# BatchNorm layer\n",
    "bnmeani = 1/n*hprebn.sum(0, keepdim=True)\n",
    "bndiff = hprebn - bnmeani\n",
    "bndiff2 = bndiff**2\n",
    "bnvar = 1/(n-1)*(bndiff2).sum(0, keepdim=True) # note: Bessel's correction (dividing by n-1, not n)\n",
    "bnvar_inv = (bnvar + 1e-5)**-0.5\n",
    "bnraw = bndiff * bnvar_inv\n",
    "hpreact = bngain * bnraw + bnbias\n",
    "# Non-linearity\n",
    "h = torch.tanh(hpreact) # hidden layer\n",
    "# Linear layer 2\n",
    "logits = h @ W2 + b2 # output layer\n",
    "# cross entropy loss (same as F.cross_entropy(logits, Yb))\n",
    "logit_maxes = logits.max(1, keepdim=True).values\n",
    "norm_logits = logits - logit_maxes # subtract max for numerical stability\n",
    "counts = norm_logits.exp()\n",
    "counts_sum = counts.sum(1, keepdims=True)\n",
    "counts_sum_inv = counts_sum**-1 # if I use (1.0 / counts_sum) instead then I can't get backprop to be bit exact...\n",
    "probs = counts * counts_sum_inv\n",
    "logprobs = probs.log()\n",
    "loss = -logprobs[range(n), Yb].mean()\n",
    "\n",
    "# PyTorch backward pass\n",
    "for p in parameters:\n",
    "  p.grad = None\n",
    "for t in [logprobs, probs, counts, counts_sum, counts_sum_inv, # afaik there is no cleaner way\n",
    "          norm_logits, logit_maxes, logits, h, hpreact, bnraw,\n",
    "         bnvar_inv, bnvar, bndiff2, bndiff, hprebn, bnmeani,\n",
    "         embcat, emb]:\n",
    "  t.retain_grad()\n",
    "loss.backward()\n",
    "loss"
   ]
  },
  {
   "cell_type": "code",
   "execution_count": 11,
   "id": "74e6f839-b51a-4a1e-9def-d97f4da83dc5",
   "metadata": {},
   "outputs": [],
   "source": [
    "#"
   ]
  },
  {
   "cell_type": "code",
   "execution_count": 184,
   "id": "34096861-9757-4f61-857d-50e03f18dc3f",
   "metadata": {},
   "outputs": [
    {
     "name": "stdout",
     "output_type": "stream",
     "text": [
      "logprobs        | exact: True  | approximate: True  | maxdiff: 0.0\n"
     ]
    },
    {
     "data": {
      "text/latex": [
       "$\\displaystyle \\frac{d}{dx}ln x = \\frac{1}{x}$"
      ],
      "text/plain": [
       "<IPython.core.display.Math object>"
      ]
     },
     "metadata": {},
     "output_type": "display_data"
    },
    {
     "name": "stdout",
     "output_type": "stream",
     "text": [
      "probs           | exact: True  | approximate: True  | maxdiff: 0.0\n",
      "counts_sum_inv  | exact: True  | approximate: True  | maxdiff: 0.0\n"
     ]
    },
    {
     "data": {
      "text/latex": [
       "$\\displaystyle \\frac{d}{dx} \\frac{1}{x} = -\\frac{1}{x^{2}}$"
      ],
      "text/plain": [
       "<IPython.core.display.Math object>"
      ]
     },
     "metadata": {},
     "output_type": "display_data"
    },
    {
     "name": "stdout",
     "output_type": "stream",
     "text": [
      "counts_sum      | exact: True  | approximate: True  | maxdiff: 0.0\n",
      "counts          | exact: True  | approximate: True  | maxdiff: 0.0\n",
      "norm_logits     | exact: True  | approximate: True  | maxdiff: 0.0\n",
      "logit_maxes     | exact: True  | approximate: True  | maxdiff: 0.0\n",
      "logits          | exact: True  | approximate: True  | maxdiff: 0.0\n",
      "h               | exact: True  | approximate: True  | maxdiff: 0.0\n",
      "W2              | exact: True  | approximate: True  | maxdiff: 0.0\n",
      "b2              | exact: True  | approximate: True  | maxdiff: 0.0\n"
     ]
    },
    {
     "data": {
      "text/latex": [
       "$\\displaystyle \\frac{d}{dx}tanh(x) = 1 - tanh^2(x)$"
      ],
      "text/plain": [
       "<IPython.core.display.Math object>"
      ]
     },
     "metadata": {},
     "output_type": "display_data"
    },
    {
     "name": "stdout",
     "output_type": "stream",
     "text": [
      "hpreact         | exact: True  | approximate: True  | maxdiff: 0.0\n",
      "bngain          | exact: True  | approximate: True  | maxdiff: 0.0\n",
      "bnbias          | exact: True  | approximate: True  | maxdiff: 0.0\n",
      "bnraw           | exact: True  | approximate: True  | maxdiff: 0.0\n",
      "bnvar_inv       | exact: True  | approximate: True  | maxdiff: 0.0\n",
      "bnvar           | exact: True  | approximate: True  | maxdiff: 0.0\n",
      "bndiff2         | exact: True  | approximate: True  | maxdiff: 0.0\n",
      "bndiff          | exact: True  | approximate: True  | maxdiff: 0.0\n",
      "bnmeani         | exact: True  | approximate: True  | maxdiff: 0.0\n",
      "hprebn          | exact: True  | approximate: True  | maxdiff: 0.0\n",
      "embcat          | exact: True  | approximate: True  | maxdiff: 0.0\n",
      "W1              | exact: True  | approximate: True  | maxdiff: 0.0\n",
      "b1              | exact: True  | approximate: True  | maxdiff: 0.0\n",
      "emb             | exact: True  | approximate: True  | maxdiff: 0.0\n",
      "C               | exact: True  | approximate: True  | maxdiff: 0.0\n"
     ]
    }
   ],
   "source": [
    "# recommends to implement all the gradients \n",
    "# myself and come back\n",
    "dloss = 1\n",
    "\n",
    "# my way\n",
    "dlogprobs_mask = torch.zeros(logprobs.shape)\n",
    "dlogprobs_mask[range(n), Yb] = 1\n",
    "dlogprobs = -1/n * dlogprobs_mask * dloss\n",
    "\n",
    "#better way\n",
    "dlogprobs = torch.zeros_like(logprobs)\n",
    "dlogprobs[range(n), Yb] = -1/n\n",
    "cmp('logprobs', dlogprobs, logprobs)\n",
    "\n",
    "dprobs = 1.0 / probs * dlogprobs\n",
    "display(Math(r'\\frac{d}{dx}ln x = \\frac{1}{x}'))\n",
    "cmp('probs', dprobs, probs)\n",
    "\n",
    "dcounts_sum_inv = counts * dprobs # for : probs = counts * counts_sum_inv\n",
    "dcounts_sum_inv = torch.sum(dcounts_sum_inv, 1, keepdim=True)\n",
    "#print(dcounts_sum_inv.shape)\n",
    "cmp('counts_sum_inv', dcounts_sum_inv, counts_sum_inv)\n",
    "\n",
    "dcounts = counts_sum_inv * dprobs # for : probs = counts * counts_sum_inv\n",
    "# this node has more connections, will be completed below\n",
    "\n",
    "\n",
    "dcounts_sum = -counts_sum**-2 * dcounts_sum_inv\n",
    "display(Math(r'\\frac{d}{dx} \\frac{1}{x} = -\\frac{1}{x^{2}}'))\n",
    "cmp('counts_sum', dcounts_sum, counts_sum)\n",
    "\n",
    "#dcounts = dcounts_sum + dcounts\n",
    "dcounts += torch.ones_like(counts)*dcounts_sum \n",
    "cmp('counts', dcounts, counts)\n",
    "\n",
    "#dnorm_logits = norm_logits.exp() * dcounts\n",
    "# we already calculated norm_logits.exp() for counts, so we can reuse it\n",
    "dnorm_logits = counts * dcounts\n",
    "cmp('norm_logits', dnorm_logits, norm_logits)\n",
    "\n",
    "dlogit_maxes = -dnorm_logits.sum(1, keepdims=True) # my version was identical: -torch.sum(dnorm_logits, 1, keepdims=True) # first derivation step\n",
    "cmp('logit_maxes', dlogit_maxes, logit_maxes)\n",
    "\n",
    "dlogits = dnorm_logits.clone() # first derivation step\n",
    "# second step my approach ( approx, true)\n",
    "#derivating this step: logit_maxes = logits.max(1, keepdim=True).values\n",
    "# dlogits_mask = torch.zeros_like(logits)\n",
    "# dlogits_mask[range(n), logits.max(1, keepdim=True).indices] = 1\n",
    "# dlogits += dlogits_mask * dlogit_maxes\n",
    "# second step Andrej Karpathy\n",
    "dlogits += F.one_hot(logits.max(1).indices, num_classes=logits.shape[1]) * dlogit_maxes\n",
    "cmp('logits', dlogits, logits)\n",
    "\n",
    "# logits = h @ W2 + b2 # output layer\n",
    "dh =  dlogits @ W2.transpose(0, 1)\n",
    "cmp('h', dh, h)\n",
    "\n",
    "dW2 = h.transpose(0, 1) @ dlogits\n",
    "cmp('W2', dW2, W2)\n",
    "\n",
    "db2 = torch.sum(dlogits, 0)\n",
    "cmp('b2', db2, b2)\n",
    "\n",
    "#h = torch.tanh(hpreact)   # dtanh/dx = 1-tanh^2(x) \n",
    "display(Math(r'\\frac{d}{dx}tanh(x) = 1 - tanh^2(x)'))\n",
    "dhpreact = (1 - h**2) * dh\n",
    "cmp('hpreact', dhpreact, hpreact)\n",
    "\n",
    "\n",
    "#hpreact = bngain * bnraw + bnbias\n",
    "dbngain = (dhpreact * bnraw).sum(0, keepdims=True)\n",
    "dbnraw = bngain * dhpreact\n",
    "dbnbias = dhpreact.sum(0, keepdims=True)\n",
    "\n",
    "cmp('bngain', dbngain, bngain)\n",
    "cmp('bnbias', dbnbias, bnbias)\n",
    "cmp('bnraw', dbnraw, bnraw)\n",
    "\n",
    "# bnraw = bndiff * bnvar_inv\n",
    "dbnvar_inv = (bndiff * dbnraw).sum(0, keepdims=True)\n",
    "cmp('bnvar_inv', dbnvar_inv, bnvar_inv)\n",
    "\n",
    "dbndiff  = bnvar_inv * dbnraw\n",
    "# should broadcast successfully:  (torch.Size([32, 64]), torch.Size([1, 64]), torch.Size([32, 64]))\n",
    "\n",
    "# bnvar_inv = (bnvar + 1e-5)**-0.5\n",
    "dbnvar = -0.5*(bnvar + 1e-5)**-1.5 * dbnvar_inv\n",
    "cmp('bnvar', dbnvar, bnvar)\n",
    "\n",
    "\n",
    "# differentiating through the bnvar = 1/(n-1)*(bndiff2).sum(0, keepdim=True) # note: Bessel's correction (dividing by n-1, not n)\n",
    "# Andrej says the paper on BN introduces a train-test mismatch, using biased Norm at train time\n",
    "# und unbiased (n-1) Norm at test time\n",
    "# Andrej recommends not to do this, and sees no reason for this\n",
    "# but PyTorch implements it exactly as the BN paper does\n",
    "# and also Andrej, recommend using unbiased Norm, for small samples (batches) \n",
    "# because it estimates the variance better\n",
    "\n",
    "dbndiff2 = (1.0/(n-1)) * torch.ones_like(bndiff2) * dbnvar # unsum 1x64 -> 32x64 over dim 0\n",
    "cmp('bndiff2', dbndiff2, bndiff2)\n",
    "\n",
    "# bndiff2 = bndiff**2\n",
    "dbndiff += 2*bndiff * dbndiff2\n",
    "cmp('bndiff', dbndiff, bndiff)\n",
    "\n",
    "dbnmeani = -dbndiff.sum(0, keepdims=True)\n",
    "cmp('bnmeani', dbnmeani, bnmeani)\n",
    "\n",
    "# bnmeani = 1/n*hprebn.sum(0, keepdim=True)\n",
    "dhprebn = dbndiff.clone() # first step\n",
    "dhprebn += 1.0/n * torch.ones_like(hprebn) * dbnmeani # second step\n",
    "cmp('hprebn', dhprebn, hprebn)\n",
    "\n",
    "# hprebn = embcat @ W1 + b1 # hidden layer pre-activation\n",
    "dembcat = dhprebn @ W1.T\n",
    "cmp('embcat', dembcat, embcat)\n",
    "\n",
    "dW1 = embcat.T @ dhprebn\n",
    "cmp('W1', dW1, W1)\n",
    "\n",
    "db1 = dhprebn.sum(0)\n",
    "cmp('b1', db1, b1)\n",
    "\n",
    "# embcat = emb.view(emb.shape[0], -1) # concatenate the vectors\n",
    "demb = dembcat.view(emb.shape)\n",
    "cmp('emb', demb, emb)\n",
    "\n",
    "# emb = C[Xb] # embed the characters into vectors\n",
    "\n",
    "# MY WAY: Works, with numerical inaccuracies (approx)\n",
    "# Xb_onehot = F.one_hot(Xb, num_classes=C.shape[0]) # Xb_onehot shape: [32, 3, 27]\n",
    "# bc_mask_4D = torch.ones(list(Xb.shape + C.shape)) # bc_mask_4D shape: [32,3,27,10]\n",
    "# Xb_2dexpanded = Xb_onehot.unsqueeze(-1) * bc_mask_4D  # Xb_2dexpanded shape: [32,3,27,10]\n",
    "# r = (Xb_2dexpanded * demb.unsqueeze(2)) # shapes: [32,3,27,10] * [32,3,1,10] = [32,3,27,10]\n",
    "# dC = r.sum((0,1)) # dC  shape [27, 10]\n",
    "\n",
    "# Chat GPT way (improved for readability):\n",
    "# Xb_onehot = F.one_hot(Xb, num_classes=C.shape[0])  # [32, 3] → [32, 3, 27]\n",
    "# dC_expanded = Xb_onehot.unsqueeze(-1) * demb.unsqueeze(2) # [32, 3, 27, 1] * [32, 3, 1, 10] → [32, 3, 27, 10] \n",
    "# dC = dC_expanded.sum((0, 1)) # [32, 3, 27, 10] → [27, 10]\n",
    "\n",
    "#Chat GPT way2:\n",
    "# dC_simplified = demb.new_zeros(C.shape)  # Create a zero tensor with the same shape as C\n",
    "# dC_simplified.index_add_(0, Xb.view(-1), demb.view(-1, demb.size(-1)));  # Summing the indexed values\n",
    "\n",
    "# the same from youtube, no numerical issues:\n",
    "dC = torch.zeros_like(C)\n",
    "dC.index_add_(0, Xb.view(-1), demb.view(-1, 10))\n",
    "\n",
    "# One more Chat GPT way3\n",
    "# Xb_flat = Xb.view(-1)\n",
    "# demb_flat = demb.view(-1, demb.size(-1))\n",
    "# #     Use scatter_add to accumulate the gradients\n",
    "# dC_simplified = torch.zeros_like(C)\n",
    "# dC_simplified.scatter_add_(0, Xb_flat.unsqueeze(1).expand(-1, demb.size(-1)), demb_flat)\n",
    "\n",
    "\n",
    "#Andrej K method\n",
    "# dC = torch.zeros_like(C)\n",
    "# for k in range(Xb.shape[0]):\n",
    "#     for j in range(Xb.shape[1]):\n",
    "#         ix = Xb[k,j]\n",
    "#         dC[ix] += demb[k,j]\n",
    "\n",
    "# One-liner for dC:\n",
    "#dC = (F.one_hot(Xb, num_classes=C.shape[0]).unsqueeze(-1) * demb.unsqueeze(2)).sum((0, 1))\n",
    "\n",
    "cmp('C', dC, C)"
   ]
  },
  {
   "cell_type": "code",
   "execution_count": 185,
   "id": "12f8fc0a-f42f-4f4c-b0ea-bbbebb1856c0",
   "metadata": {},
   "outputs": [
    {
     "name": "stdout",
     "output_type": "stream",
     "text": [
      "3.341632843017578 diff: -2.384185791015625e-07\n"
     ]
    }
   ],
   "source": [
    "# Exercise 2: backprop through cross_entropy but all in one go\n",
    "# to complete this challenge look at the mathematical expression of the loss,\n",
    "# take the derivative, simplify the expression, and just write it out\n",
    "\n",
    "# forward pass\n",
    "\n",
    "# before:\n",
    "# logit_maxes = logits.max(1, keepdim=True).values\n",
    "# norm_logits = logits - logit_maxes # subtract max for numerical stability\n",
    "# counts = norm_logits.exp()\n",
    "# counts_sum = counts.sum(1, keepdims=True)\n",
    "# counts_sum_inv = counts_sum**-1 # if I use (1.0 / counts_sum) instead then I can't get backprop to be bit exact...\n",
    "# probs = counts * counts_sum_inv\n",
    "# logprobs = probs.log()\n",
    "# loss = -logprobs[range(n), Yb].mean()\n",
    "\n",
    "# now:\n",
    "loss_fast = F.cross_entropy(logits, Yb)\n",
    "print(loss_fast.item(), 'diff:', (loss_fast - loss).item())"
   ]
  },
  {
   "cell_type": "code",
   "execution_count": 187,
   "id": "7d354bf5-7049-4834-8b45-0916d01fd9cb",
   "metadata": {},
   "outputs": [
    {
     "name": "stdout",
     "output_type": "stream",
     "text": [
      "dlogits:  torch.Size([32, 27])\n",
      "logits          | exact: False | approximate: True  | maxdiff: 6.752088665962219e-09\n"
     ]
    }
   ],
   "source": [
    "dlogits = F.softmax(logits, 1)\n",
    "print('dlogits: ', dlogits.shape)\n",
    "\n",
    "dlogits[range(n), Yb] -= 1\n",
    "dlogits /= n\n",
    "\n",
    "cmp('logits', dlogits, logits)"
   ]
  },
  {
   "cell_type": "code",
   "execution_count": 196,
   "id": "28fc71c3-aa8f-4ff4-b7f6-f99cd7de4de7",
   "metadata": {},
   "outputs": [
    {
     "data": {
      "text/plain": [
       "<matplotlib.image.AxesImage at 0x2583c04d490>"
      ]
     },
     "execution_count": 196,
     "metadata": {},
     "output_type": "execute_result"
    },
    {
     "data": {
      "image/png": "[encoded data removed]",
      "text/plain": [
       "<Figure size 800x800 with 1 Axes>"
      ]
     },
     "metadata": {},
     "output_type": "display_data"
    }
   ],
   "source": [
    "plt.figure(figsize=(8,8))\n",
    "plt.imshow(dlogits.detach(), cmap='gray')"
   ]
  },
  {
   "cell_type": "code",
   "execution_count": 197,
   "id": "61d71e78-e197-4204-9710-caf114b98f9e",
   "metadata": {},
   "outputs": [],
   "source": [
    "# So Andrej explained, that cross entropy allows for this nice magical\" pushing & pulling correct & incorrect predictions, \n",
    "# so in the end they become closer to the value we need, by training."
   ]
  },
  {
   "cell_type": "code",
   "execution_count": 198,
   "id": "b5bcb062-62fb-4394-862e-f74a0d790ec6",
   "metadata": {},
   "outputs": [],
   "source": [
    "# #detach experiments\n",
    "# a = torch.randint(1,10, (3,3))\n",
    "# b = a.detach()\n",
    "# print(a)\n",
    "# b[1,1] = 0\n",
    "# print(b)\n",
    "# print(a)\n",
    "# a[2,2] = 0\n",
    "# print(b)\n",
    "# print(a)"
   ]
  },
  {
   "cell_type": "code",
   "execution_count": 200,
   "id": "3fcdb97b-9ca3-4d63-9b91-63422408e8f4",
   "metadata": {},
   "outputs": [
    {
     "name": "stdout",
     "output_type": "stream",
     "text": [
      "max diff: tensor(4.7684e-07, grad_fn=<MaxBackward1>)\n"
     ]
    }
   ],
   "source": [
    "# Exercise 3: backprop through batchnorm but all in one go\n",
    "# to complete this challenge look at the mathematical expression of the output of batchnorm,\n",
    "# take the derivative w.r.t. its input, simplify the expression, and just write it out\n",
    "\n",
    "# forward pass\n",
    "\n",
    "# before:\n",
    "# bnmeani = 1/n*hprebn.sum(0, keepdim=True)\n",
    "# bndiff = hprebn - bnmeani\n",
    "# bndiff2 = bndiff**2\n",
    "# bnvar = 1/(n-1)*(bndiff2).sum(0, keepdim=True) # note: Bessel's correction (dividing by n-1, not n)\n",
    "# bnvar_inv = (bnvar + 1e-5)**-0.5\n",
    "# bnraw = bndiff * bnvar_inv\n",
    "# hpreact = bngain * bnraw + bnbias\n",
    "\n",
    "# now:\n",
    "hpreact_fast = bngain * (hprebn - hprebn.mean(0, keepdim=True)) / torch.sqrt(hprebn.var(0, keepdim=True, unbiased=True) + 1e-5) + bnbias\n",
    "\n",
    "print('max diff:', (hpreact_fast - hpreact).abs().max())\n"
   ]
  },
  {
   "cell_type": "code",
   "execution_count": 281,
   "id": "f1b044fb-3117-470a-b121-81c914912f07",
   "metadata": {},
   "outputs": [
    {
     "data": {
      "text/latex": [
       "$\\displaystyle \\frac{∂L}{∂γ} = \\hat{x_i} * \\frac{∂L}{∂y_i}$"
      ],
      "text/plain": [
       "<IPython.core.display.Math object>"
      ]
     },
     "metadata": {},
     "output_type": "display_data"
    },
    {
     "data": {
      "text/latex": [
       "$\\displaystyle \\frac{dL}{dβ} = \\frac{dL}{dy_i}$"
      ],
      "text/plain": [
       "<IPython.core.display.Math object>"
      ]
     },
     "metadata": {},
     "output_type": "display_data"
    },
    {
     "data": {
      "text/latex": [
       "$\\displaystyle \\frac{dL}{d\\hat{x_i}} =  \\frac{dL}{dy_i} * γ$"
      ],
      "text/plain": [
       "<IPython.core.display.Math object>"
      ]
     },
     "metadata": {},
     "output_type": "display_data"
    },
    {
     "data": {
      "text/latex": [
       "$\\displaystyle \\frac{dL}{dσ^2} = \\sum_{i=1}^n \\frac{dL}{d\\hat{x_i}} * \\frac{d\\hat{x_i}}{dσ^2}$"
      ],
      "text/plain": [
       "<IPython.core.display.Math object>"
      ]
     },
     "metadata": {},
     "output_type": "display_data"
    },
    {
     "data": {
      "text/latex": [
       "$\\displaystyle \\quad\\quad = \\frac{dL}{dy_i} * γ * \\sum_{i=1}^n (x_i - μ) * -\\frac{1}{2}(σ^2 + ε)^\\frac{3}{2} $"
      ],
      "text/plain": [
       "<IPython.core.display.Math object>"
      ]
     },
     "metadata": {},
     "output_type": "display_data"
    },
    {
     "data": {
      "text/latex": [
       "$\\displaystyle \\frac{∂L}{∂μ} = -\\sum_{i=1}^n \\frac{dL}{dy_i} * γ * (σ^2 + ε)^{-\\frac{1}{2}}$"
      ],
      "text/plain": [
       "<IPython.core.display.Math object>"
      ]
     },
     "metadata": {},
     "output_type": "display_data"
    },
    {
     "data": {
      "text/latex": [
       "$\\displaystyle \\frac{∂L}{∂x_i} = \\frac{∂L}{∂\\hat{x_i}}\\frac{∂\\hat{x_i}}{∂x_i} + \\frac{∂L}{∂μ}\\frac{∂μ}{∂x_i} + \\frac{∂L}{∂σ^2}\\frac{∂σ^2}{∂x_i}$"
      ],
      "text/plain": [
       "<IPython.core.display.Math object>"
      ]
     },
     "metadata": {},
     "output_type": "display_data"
    },
    {
     "data": {
      "text/latex": [
       "$\\displaystyle \\quad\\quad = \\frac{γ*(σ^2 + ε)^{-\\frac{1}{2}}}{m} \\left[ m\\frac{∂L}{∂y_i} - \\sum_{j=1}^n \\frac{∂L}{∂y_j}- \\frac{m}{m-1}\\hat{x_i}\\sum_{j=1}^n\\frac{∂L}{∂y_j}\\hat{x_i}\\right]$"
      ],
      "text/plain": [
       "<IPython.core.display.Math object>"
      ]
     },
     "metadata": {},
     "output_type": "display_data"
    },
    {
     "name": "stdout",
     "output_type": "stream",
     "text": [
      "hprebn          | exact: False | approximate: True  | maxdiff: 9.313225746154785e-10\n"
     ]
    }
   ],
   "source": [
    "# before we had:\n",
    "# dbnraw = bngain * dhpreact\n",
    "# dbndiff = bnvar_inv * dbnraw\n",
    "# dbnvar_inv = (bndiff * dbnraw).sum(0, keepdim=True)\n",
    "# dbnvar = (-0.5*(bnvar + 1e-5)**-1.5) * dbnvar_inv\n",
    "# dbndiff2 = (1.0/(n-1))*torch.ones_like(bndiff2) * dbnvar\n",
    "# dbndiff += (2*bndiff) * dbndiff2\n",
    "# dhprebn = dbndiff.clone()\n",
    "# dbnmeani = (-dbndiff).sum(0)\n",
    "# dhprebn += 1.0/n * (torch.ones_like(hprebn) * dbnmeani)\n",
    "\n",
    "# calculate dhprebn given dhpreact (i.e. backprop through the batchnorm)\n",
    "# (you'll also need to use some of the variables from the forward pass up above)\n",
    "\n",
    "\n",
    "display(Math(r'\\frac{∂L}{∂γ} = \\hat{x_i} * \\frac{∂L}{∂y_i}')) \n",
    "display(Math(r'\\frac{dL}{dβ} = \\frac{dL}{dy_i}')) \n",
    "display(Math(r'\\frac{dL}{d\\hat{x_i}} =  \\frac{dL}{dy_i} * γ')) \n",
    "display(Math(r'\\frac{dL}{dσ^2} = \\sum_{i=1}^n \\frac{dL}{d\\hat{x_i}} * \\frac{d\\hat{x_i}}{dσ^2}'))\n",
    "display(Math(r'\\quad\\quad = \\frac{dL}{dy_i} * γ * \\sum_{i=1}^n (x_i - μ) * -\\frac{1}{2}(σ^2 + ε)^\\frac{3}{2} ')) \n",
    "#\n",
    "display(Math(r'\\frac{∂L}{∂μ} = -\\sum_{i=1}^n \\frac{dL}{dy_i} * γ * (σ^2 + ε)^{-\\frac{1}{2}}')) \n",
    "display(Math(r'\\frac{∂L}{∂x_i} = \\frac{∂L}{∂\\hat{x_i}}\\frac{∂\\hat{x_i}}{∂x_i} + \\frac{∂L}{∂μ}\\frac{∂μ}{∂x_i} + \\frac{∂L}{∂σ^2}\\frac{∂σ^2}{∂x_i}')) \n",
    "\n",
    "display(Math(r'\\quad\\quad = \\frac{γ*(σ^2 + ε)^{-\\frac{1}{2}}}{m} \\left[ m\\frac{∂L}{∂y_i} - \\sum_{j=1}^n \\frac{∂L}{∂y_j}'\n",
    "             r'- \\frac{m}{m-1}\\hat{x_i}\\sum_{j=1}^n\\frac{∂L}{∂y_j}\\hat{x_i}\\right]')) \n",
    "dhprebn = bngain*bnvar_inv/n * (n*dhpreact - dhpreact.sum(0) - n/(n-1)*bnraw*(dhpreact*bnraw).sum(0))\n",
    "cmp('hprebn', dhprebn, hprebn) # I can only get approximate to be true, my maxdiff is 9e-10\n"
   ]
  },
  {
   "cell_type": "code",
   "execution_count": 283,
   "id": "251d8254-f8ce-40dc-8afe-a9cc3dd01385",
   "metadata": {},
   "outputs": [
    {
     "name": "stdout",
     "output_type": "stream",
     "text": [
      "12297\n",
      "      0/ 200000: 3.7336\n",
      "  10000/ 200000: 2.1582\n",
      "  20000/ 200000: 2.3810\n",
      "  30000/ 200000: 2.4484\n",
      "  40000/ 200000: 1.9918\n",
      "  50000/ 200000: 2.3501\n",
      "  60000/ 200000: 2.3737\n",
      "  70000/ 200000: 2.0562\n",
      "  80000/ 200000: 2.3512\n",
      "  90000/ 200000: 2.1594\n",
      " 100000/ 200000: 2.0093\n",
      " 110000/ 200000: 2.3770\n",
      " 120000/ 200000: 1.9505\n",
      " 130000/ 200000: 2.4642\n",
      " 140000/ 200000: 2.2568\n",
      " 150000/ 200000: 2.1733\n",
      " 160000/ 200000: 1.9945\n",
      " 170000/ 200000: 1.8310\n",
      " 180000/ 200000: 2.0480\n",
      " 190000/ 200000: 1.8742\n"
     ]
    }
   ],
   "source": [
    "# Exercise 4: putting it all together!\n",
    "# Train the MLP neural net with your own backward pass\n",
    "\n",
    "# init\n",
    "n_embd = 10 # the dimensionality of the character embedding vectors\n",
    "n_hidden = 200 # the number of neurons in the hidden layer of the MLP\n",
    "\n",
    "g = torch.Generator().manual_seed(2147483647) # for reproducibility\n",
    "C  = torch.randn((vocab_size, n_embd),            generator=g)\n",
    "# Layer 1\n",
    "W1 = torch.randn((n_embd * block_size, n_hidden), generator=g) * (5/3)/((n_embd * block_size)**0.5)\n",
    "b1 = torch.randn(n_hidden,                        generator=g) * 0.1\n",
    "# Layer 2\n",
    "W2 = torch.randn((n_hidden, vocab_size),          generator=g) * 0.1\n",
    "b2 = torch.randn(vocab_size,                      generator=g) * 0.1\n",
    "# BatchNorm parameters\n",
    "bngain = torch.randn((1, n_hidden))*0.1 + 1.0\n",
    "bnbias = torch.randn((1, n_hidden))*0.1\n",
    "\n",
    "parameters = [C, W1, b1, W2, b2, bngain, bnbias]\n",
    "print(sum(p.nelement() for p in parameters)) # number of parameters in total\n",
    "for p in parameters:\n",
    "  p.requires_grad = True\n",
    "\n",
    "# same optimization as last time\n",
    "max_steps = 200000\n",
    "batch_size = 32\n",
    "n = batch_size # convenience\n",
    "lossi = []\n",
    "\n",
    "# use this context manager for efficiency once your backward pass is written (TODO)\n",
    "with torch.no_grad():\n",
    "\n",
    "  # kick off optimization\n",
    "  for i in range(max_steps):\n",
    "\n",
    "    # minibatch construct\n",
    "    ix = torch.randint(0, Xtr.shape[0], (batch_size,), generator=g)\n",
    "    Xb, Yb = Xtr[ix], Ytr[ix] # batch X,Y\n",
    "\n",
    "    # forward pass\n",
    "    emb = C[Xb] # embed the characters into vectors\n",
    "    embcat = emb.view(emb.shape[0], -1) # concatenate the vectors\n",
    "    # Linear layer\n",
    "    hprebn = embcat @ W1 + b1 # hidden layer pre-activation\n",
    "    # BatchNorm layer\n",
    "    # -------------------------------------------------------------\n",
    "    bnmean = hprebn.mean(0, keepdim=True)\n",
    "    bnvar = hprebn.var(0, keepdim=True, unbiased=True)\n",
    "    bnvar_inv = (bnvar + 1e-5)**-0.5\n",
    "    bnraw = (hprebn - bnmean) * bnvar_inv\n",
    "    hpreact = bngain * bnraw + bnbias\n",
    "    # -------------------------------------------------------------\n",
    "    # Non-linearity\n",
    "    h = torch.tanh(hpreact) # hidden layer\n",
    "    logits = h @ W2 + b2 # output layer\n",
    "    loss = F.cross_entropy(logits, Yb) # loss function\n",
    "\n",
    "    # backward pass\n",
    "    for p in parameters:\n",
    "      p.grad = None\n",
    "    #loss.backward() # use this for correctness comparisons, delete it later!\n",
    "\n",
    "    # manual backprop! #swole_doge_meme\n",
    "    # -----------------\n",
    "    dlogits = F.softmax(logits, 1)\n",
    "    dlogits[range(n), Yb] -= 1\n",
    "    dlogits /= n\n",
    "    # 2nd layer backprop\n",
    "    dh = dlogits @ W2.T\n",
    "    dW2 = h.T @ dlogits\n",
    "    db2 = dlogits.sum(0)\n",
    "    # tanh\n",
    "    dhpreact = (1.0 - h**2) * dh\n",
    "    # batchnorm backprop\n",
    "    dbngain = (bnraw * dhpreact).sum(0, keepdim=True)\n",
    "    dbnbias = dhpreact.sum(0, keepdim=True)\n",
    "    dhprebn = bngain*bnvar_inv/n * (n*dhpreact - dhpreact.sum(0) - n/(n-1)*bnraw*(dhpreact*bnraw).sum(0))\n",
    "    # 1st layer\n",
    "    dembcat = dhprebn @ W1.T\n",
    "    dW1 = embcat.T @ dhprebn\n",
    "    db1 = dhprebn.sum(0)\n",
    "    # embedding\n",
    "    demb = dembcat.view(emb.shape)\n",
    "    dC = torch.zeros_like(C)\n",
    "    for k in range(Xb.shape[0]):\n",
    "      for j in range(Xb.shape[1]):\n",
    "        ix = Xb[k,j]\n",
    "        dC[ix] += demb[k,j]\n",
    "    grads = [dC, dW1, db1, dW2, db2, dbngain, dbnbias]\n",
    "    # -----------------\n",
    "\n",
    "    # update\n",
    "    lr = 0.1 if i < 100000 else 0.01 # step learning rate decay\n",
    "    for p, grad in zip(parameters, grads):\n",
    "      #p.data += -lr * p.grad # old way of cheems doge (using PyTorch grad from .backward())\n",
    "      p.data += -lr * grad # new way of swole doge TODO: enable\n",
    "\n",
    "    # track stats\n",
    "    if i % 10000 == 0: # print every once in a while\n",
    "      print(f'{i:7d}/{max_steps:7d}: {loss.item():.4f}')\n",
    "    lossi.append(loss.log10().item())\n",
    "\n",
    "  #   if i >= 100: # TODO: delete early breaking when you're ready to train the full net\n",
    "  #     break"
   ]
  },
  {
   "cell_type": "code",
   "execution_count": null,
   "id": "3be1b569-b3de-437f-8572-53850639b1c6",
   "metadata": {},
   "outputs": [],
   "source": []
  }
 ],
 "metadata": {
  "kernelspec": {
   "display_name": "Python 3 (ipykernel)",
   "language": "python",
   "name": "python3"
  },
  "language_info": {
   "codemirror_mode": {
    "name": "ipython",
    "version": 3
   },
   "file_extension": ".py",
   "mimetype": "text/x-python",
   "name": "python",
   "nbconvert_exporter": "python",
   "pygments_lexer": "ipython3",
   "version": "3.11.0"
  }
 },
 "nbformat": 4,
 "nbformat_minor": 5
}
