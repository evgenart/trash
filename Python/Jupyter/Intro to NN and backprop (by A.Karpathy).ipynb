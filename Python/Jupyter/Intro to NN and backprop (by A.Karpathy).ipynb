{
 "cells": [
  {
   "cell_type": "code",
   "execution_count": 8,
   "metadata": {},
   "outputs": [
    {
     "data": {
      "text/html": [
       "<style>.container { width:100% !important; }</style>"
      ],
      "text/plain": [
       "<IPython.core.display.HTML object>"
      ]
     },
     "metadata": {},
     "output_type": "display_data"
    }
   ],
   "source": [
    "# apt-get install graphviz\n",
    "# pip install graphviz\n",
    "\n",
    "\n",
    "from IPython.display import display\n",
    "from IPython.display import Markdown\n",
    "\n",
    "def print_md(*args, sep = ' ', end = '\\n'):    \n",
    "    text = sep.join(list([str(arg) for arg in args])) + (end if end != '\\n' else '')\n",
    "    display(Markdown(text))\n",
    "\n",
    "# to use whole screen\n",
    "from IPython.core.display import display, HTML\n",
    "display(HTML(\"<style>.container { width:100% !important; }</style>\"))"
   ]
  },
  {
   "cell_type": "code",
   "execution_count": 2,
   "metadata": {},
   "outputs": [],
   "source": [
    "import os\n",
    "\n",
    "# Define the directory you want to add to PATH\n",
    "directory_to_add = \"/usr/bin\"\n",
    "\n",
    "# Get the current PATH\n",
    "current_path = os.environ.get('PATH')\n",
    "\n",
    "# Add your directory to the PATH\n",
    "new_path = directory_to_add + os.pathsep + current_path\n",
    "\n",
    "# Set the new PATH\n",
    "os.environ['PATH'] = new_path"
   ]
  },
  {
   "cell_type": "code",
   "execution_count": 3,
   "metadata": {},
   "outputs": [],
   "source": [
    "from graphviz import Digraph\n",
    "\n",
    "def trace(root):\n",
    "    nodes, edges = set(), set()\n",
    "    def build(v):\n",
    "        if v not in nodes:\n",
    "            nodes.add(v)\n",
    "            for child in v._prev:\n",
    "                edges.add((child, v))\n",
    "                build(child)\n",
    "    build(root)\n",
    "    return nodes, edges\n",
    "\n",
    "def draw_dot_ng(root, format='svg', rankdir='LR'):\n",
    "    \"\"\"\n",
    "    format: png | svg | ...\n",
    "    rankdir: TB (top to bottom graph) | LR (left to right)\n",
    "    \"\"\"\n",
    "    assert rankdir in ['LR', 'TB']\n",
    "    nodes, edges = trace(root)\n",
    "    dot = Digraph(format=format, graph_attr={'rankdir': rankdir}) #, node_attr={'rankdir': 'TB'})\n",
    "    \n",
    "    for n in nodes:\n",
    "        dot.node(name=str(id(n)), label = \"{ %s | data %.2f | grad %.2f }\" % (n.label, n.data, n.grad), shape='record')\n",
    "        if n._op:\n",
    "            dot.node(name=str(id(n)) + n._op, label=n._op)\n",
    "            dot.edge(str(id(n)) + n._op, str(id(n)))\n",
    "    \n",
    "    for n1, n2 in edges:\n",
    "        dot.edge(str(id(n1)), str(id(n2)) + n2._op)\n",
    "    \n",
    "    return dot"
   ]
  },
  {
   "cell_type": "code",
   "execution_count": 4,
   "metadata": {},
   "outputs": [],
   "source": [
    "def validname(variablename):\n",
    "    valid_chars = set('abcdefghijklmnopqrstuvwxyzABCDEFGHIJKLMNOPQRSTUVWXYZ0123456789_')\n",
    "    return all(letter in valid_chars for letter in variablename)\n"
   ]
  },
  {
   "cell_type": "code",
   "execution_count": 5,
   "metadata": {},
   "outputs": [
    {
     "data": {
      "text/markdown": [
       "|Operation|Data|\n",
       "|:---------|:----|\n",
       "|MULTIPLICATION (a * b):|**Vlaue(data=-6.0)**|\n",
       "|ADDITION (a\\*b + c):    |**Vlaue(data=4.0)**|\n",
       "|EQUIVALENT a.\\_\\_mul\\_\\_(b).\\_\\_add\\_\\_(c):    |**Vlaue(data=4.0)**|\n"
      ],
      "text/plain": [
       "<IPython.core.display.Markdown object>"
      ]
     },
     "metadata": {},
     "output_type": "display_data"
    },
    {
     "data": {
      "text/markdown": [
       "|Operation|Data|\n",
       "|:---------|:----|\n",
       "Operation produced the object d._op:|**+**|\n",
       "Childern operands d._prev:|**{Vlaue(data=-6.0), Vlaue(data=10.0)}**|\n"
      ],
      "text/plain": [
       "<IPython.core.display.Markdown object>"
      ]
     },
     "metadata": {},
     "output_type": "display_data"
    }
   ],
   "source": [
    "import traceback\n",
    "\n",
    "#classes\n",
    "\n",
    "class Value:\n",
    "    def __init__(self, data, _children = (), _op='', label=''):\n",
    "        # just some label automation\n",
    "        frame_info3 = traceback.extract_stack()[-3]\n",
    "        label3 = frame_info3.line.split('=')[0].strip()\n",
    "        frame_info2 = traceback.extract_stack()[-2]\n",
    "        label2 = frame_info2.line.split('=')[0].strip()\n",
    "        if label:\n",
    "            self.label = label\n",
    "        elif validname(label3):\n",
    "            self.label =  label3\n",
    "        elif validname(label2):\n",
    "            self.label = label2\n",
    "        else:\n",
    "            label = 'UNKNOWN'\n",
    "        #\n",
    "        self.grad = 0\n",
    "        self.data = data\n",
    "        self._prev = set(_children)\n",
    "        self._op = _op\n",
    "        \n",
    "    def __repr__(self):\n",
    "        return f'Vlaue(data={self.data})'\n",
    "    \n",
    "    def __add__(self, other):        \n",
    "        return Value(self.data + other.data, (self, other), '+')\n",
    "\n",
    "    def __mul__(self, other):\n",
    "        return Value(self.data * other.data, (self, other), '*')\n",
    "\n",
    "    \n",
    "#calculations\n",
    "a = Value(2.0)\n",
    "b = Value(-3.0)\n",
    "c = Value(10.0)\n",
    "e = a*b\n",
    "print_md(f'|Operation|Data|\\n'\n",
    "         f'|:---------|:----|\\n'\n",
    "         f'|MULTIPLICATION (a * b):|**{a * b}**|\\n'\n",
    "         f'|ADDITION (a\\*b + c):    |**{a*b + c}**|\\n'\n",
    "         f'|EQUIVALENT a.\\_\\_mul\\_\\_(b).\\_\\_add\\_\\_(c):    |**{a.__mul__(b).__add__(c)}**|\\n'\n",
    "        )\n",
    "         \n",
    "d = e + c\n",
    "d\n",
    "print_md(f'|Operation|Data|\\n'\n",
    "         f'|:---------|:----|\\n'\n",
    "         f'Operation produced the object d._op:|**{d._op}**|\\n'\n",
    "         f'Childern operands d._prev:|**{d._prev}**|\\n')\n",
    "\n"
   ]
  },
  {
   "cell_type": "code",
   "execution_count": 6,
   "metadata": {},
   "outputs": [
    {
     "data": {
      "image/svg+xml": [
       "<?xml version=\"1.0\" encoding=\"UTF-8\" standalone=\"no\"?>\n",
       "<!DOCTYPE svg PUBLIC \"-//W3C//DTD SVG 1.1//EN\"\n",
       " \"http://www.w3.org/Graphics/SVG/1.1/DTD/svg11.dtd\">\n",
       "<!-- Generated by graphviz version 2.40.1 (20161225.0304)\n",
       " -->\n",
       "<!-- Title: %3 Pages: 1 -->\n",
       "<svg width=\"1192pt\" height=\"156pt\"\n",
       " viewBox=\"0.00 0.00 1192.00 156.00\" xmlns=\"http://www.w3.org/2000/svg\" xmlns:xlink=\"http://www.w3.org/1999/xlink\">\n",
       "<g id=\"graph0\" class=\"graph\" transform=\"scale(1 1) rotate(0) translate(4 152)\">\n",
       "<title>%3</title>\n",
       "<polygon fill=\"#ffffff\" stroke=\"transparent\" points=\"-4,4 -4,-152 1188,-152 1188,4 -4,4\"/>\n",
       "<!-- 140022913949768 -->\n",
       "<g id=\"node1\" class=\"node\">\n",
       "<title>140022913949768</title>\n",
       "<polygon fill=\"none\" stroke=\"#000000\" points=\"0,-111.5 0,-147.5 201,-147.5 201,-111.5 0,-111.5\"/>\n",
       "<text text-anchor=\"middle\" x=\"13\" y=\"-125.8\" font-family=\"Times,serif\" font-size=\"14.00\" fill=\"#000000\">b</text>\n",
       "<polyline fill=\"none\" stroke=\"#000000\" points=\"26,-111.5 26,-147.5 \"/>\n",
       "<text text-anchor=\"middle\" x=\"70.5\" y=\"-125.8\" font-family=\"Times,serif\" font-size=\"14.00\" fill=\"#000000\">data &#45;3.00</text>\n",
       "<polyline fill=\"none\" stroke=\"#000000\" points=\"115,-111.5 115,-147.5 \"/>\n",
       "<text text-anchor=\"middle\" x=\"158\" y=\"-125.8\" font-family=\"Times,serif\" font-size=\"14.00\" fill=\"#000000\">grad 0.00</text>\n",
       "</g>\n",
       "<!-- 140022913951112* -->\n",
       "<g id=\"node7\" class=\"node\">\n",
       "<title>140022913951112*</title>\n",
       "<ellipse fill=\"none\" stroke=\"#000000\" cx=\"264\" cy=\"-101.5\" rx=\"27\" ry=\"18\"/>\n",
       "<text text-anchor=\"middle\" x=\"264\" y=\"-97.8\" font-family=\"Times,serif\" font-size=\"14.00\" fill=\"#000000\">*</text>\n",
       "</g>\n",
       "<!-- 140022913949768&#45;&gt;140022913951112* -->\n",
       "<g id=\"edge8\" class=\"edge\">\n",
       "<title>140022913949768&#45;&gt;140022913951112*</title>\n",
       "<path fill=\"none\" stroke=\"#000000\" d=\"M201.2542,-112.2455C210.5755,-110.6491 219.5479,-109.1126 227.6492,-107.7252\"/>\n",
       "<polygon fill=\"#000000\" stroke=\"#000000\" points=\"228.4879,-111.1326 237.7536,-105.9948 227.3063,-104.2331 228.4879,-111.1326\"/>\n",
       "</g>\n",
       "<!-- 140022913950832 -->\n",
       "<g id=\"node2\" class=\"node\">\n",
       "<title>140022913950832</title>\n",
       "<polygon fill=\"none\" stroke=\"#000000\" points=\"327,-28.5 327,-64.5 531,-64.5 531,-28.5 327,-28.5\"/>\n",
       "<text text-anchor=\"middle\" x=\"339.5\" y=\"-42.8\" font-family=\"Times,serif\" font-size=\"14.00\" fill=\"#000000\">c</text>\n",
       "<polyline fill=\"none\" stroke=\"#000000\" points=\"352,-28.5 352,-64.5 \"/>\n",
       "<text text-anchor=\"middle\" x=\"398.5\" y=\"-42.8\" font-family=\"Times,serif\" font-size=\"14.00\" fill=\"#000000\">data 10.00</text>\n",
       "<polyline fill=\"none\" stroke=\"#000000\" points=\"445,-28.5 445,-64.5 \"/>\n",
       "<text text-anchor=\"middle\" x=\"488\" y=\"-42.8\" font-family=\"Times,serif\" font-size=\"14.00\" fill=\"#000000\">grad 0.00</text>\n",
       "</g>\n",
       "<!-- 140022913951000+ -->\n",
       "<g id=\"node5\" class=\"node\">\n",
       "<title>140022913951000+</title>\n",
       "<ellipse fill=\"none\" stroke=\"#000000\" cx=\"594\" cy=\"-73.5\" rx=\"27\" ry=\"18\"/>\n",
       "<text text-anchor=\"middle\" x=\"594\" y=\"-69.8\" font-family=\"Times,serif\" font-size=\"14.00\" fill=\"#000000\">+</text>\n",
       "</g>\n",
       "<!-- 140022913950832&#45;&gt;140022913951000+ -->\n",
       "<g id=\"edge7\" class=\"edge\">\n",
       "<title>140022913950832&#45;&gt;140022913951000+</title>\n",
       "<path fill=\"none\" stroke=\"#000000\" d=\"M531.1499,-63.2154C540.5013,-64.7457 549.4951,-66.2174 557.6117,-67.5455\"/>\n",
       "<polygon fill=\"#000000\" stroke=\"#000000\" points=\"557.2987,-71.0408 567.7327,-69.2017 558.4292,-64.1327 557.2987,-71.0408\"/>\n",
       "</g>\n",
       "<!-- 140022913949824 -->\n",
       "<g id=\"node3\" class=\"node\">\n",
       "<title>140022913949824</title>\n",
       "<polygon fill=\"none\" stroke=\"#000000\" points=\"3,-56.5 3,-92.5 198,-92.5 198,-56.5 3,-56.5\"/>\n",
       "<text text-anchor=\"middle\" x=\"15.5\" y=\"-70.8\" font-family=\"Times,serif\" font-size=\"14.00\" fill=\"#000000\">a</text>\n",
       "<polyline fill=\"none\" stroke=\"#000000\" points=\"28,-56.5 28,-92.5 \"/>\n",
       "<text text-anchor=\"middle\" x=\"70\" y=\"-70.8\" font-family=\"Times,serif\" font-size=\"14.00\" fill=\"#000000\">data 2.00</text>\n",
       "<polyline fill=\"none\" stroke=\"#000000\" points=\"112,-56.5 112,-92.5 \"/>\n",
       "<text text-anchor=\"middle\" x=\"155\" y=\"-70.8\" font-family=\"Times,serif\" font-size=\"14.00\" fill=\"#000000\">grad 0.00</text>\n",
       "</g>\n",
       "<!-- 140022913949824&#45;&gt;140022913951112* -->\n",
       "<g id=\"edge4\" class=\"edge\">\n",
       "<title>140022913949824&#45;&gt;140022913951112*</title>\n",
       "<path fill=\"none\" stroke=\"#000000\" d=\"M198.4404,-90.6736C208.8034,-92.385 218.8048,-94.0366 227.742,-95.5124\"/>\n",
       "<polygon fill=\"#000000\" stroke=\"#000000\" points=\"227.2659,-98.9811 237.7025,-97.1573 228.4064,-92.0747 227.2659,-98.9811\"/>\n",
       "</g>\n",
       "<!-- 140022913951000 -->\n",
       "<g id=\"node4\" class=\"node\">\n",
       "<title>140022913951000</title>\n",
       "<polygon fill=\"none\" stroke=\"#000000\" points=\"657,-55.5 657,-91.5 857,-91.5 857,-55.5 657,-55.5\"/>\n",
       "<text text-anchor=\"middle\" x=\"670\" y=\"-69.8\" font-family=\"Times,serif\" font-size=\"14.00\" fill=\"#000000\">d</text>\n",
       "<polyline fill=\"none\" stroke=\"#000000\" points=\"683,-55.5 683,-91.5 \"/>\n",
       "<text text-anchor=\"middle\" x=\"725\" y=\"-69.8\" font-family=\"Times,serif\" font-size=\"14.00\" fill=\"#000000\">data 4.00</text>\n",
       "<polyline fill=\"none\" stroke=\"#000000\" points=\"767,-55.5 767,-91.5 \"/>\n",
       "<text text-anchor=\"middle\" x=\"812\" y=\"-69.8\" font-family=\"Times,serif\" font-size=\"14.00\" fill=\"#000000\">grad &#45;2.00</text>\n",
       "</g>\n",
       "<!-- 140022913812408* -->\n",
       "<g id=\"node9\" class=\"node\">\n",
       "<title>140022913812408*</title>\n",
       "<ellipse fill=\"none\" stroke=\"#000000\" cx=\"920\" cy=\"-45.5\" rx=\"27\" ry=\"18\"/>\n",
       "<text text-anchor=\"middle\" x=\"920\" y=\"-41.8\" font-family=\"Times,serif\" font-size=\"14.00\" fill=\"#000000\">*</text>\n",
       "</g>\n",
       "<!-- 140022913951000&#45;&gt;140022913812408* -->\n",
       "<g id=\"edge9\" class=\"edge\">\n",
       "<title>140022913951000&#45;&gt;140022913812408*</title>\n",
       "<path fill=\"none\" stroke=\"#000000\" d=\"M857.4461,-56.2455C866.7389,-54.6491 875.6838,-53.1126 883.7604,-51.7252\"/>\n",
       "<polygon fill=\"#000000\" stroke=\"#000000\" points=\"884.5708,-55.1374 893.8338,-49.9948 883.3856,-48.2384 884.5708,-55.1374\"/>\n",
       "</g>\n",
       "<!-- 140022913951000+&#45;&gt;140022913951000 -->\n",
       "<g id=\"edge1\" class=\"edge\">\n",
       "<title>140022913951000+&#45;&gt;140022913951000</title>\n",
       "<path fill=\"none\" stroke=\"#000000\" d=\"M621.2825,-73.5C628.8033,-73.5 637.4515,-73.5 646.6639,-73.5\"/>\n",
       "<polygon fill=\"#000000\" stroke=\"#000000\" points=\"646.8552,-77.0001 656.8552,-73.5 646.8552,-70.0001 646.8552,-77.0001\"/>\n",
       "</g>\n",
       "<!-- 140022913951112 -->\n",
       "<g id=\"node6\" class=\"node\">\n",
       "<title>140022913951112</title>\n",
       "<polygon fill=\"none\" stroke=\"#000000\" points=\"329,-83.5 329,-119.5 529,-119.5 529,-83.5 329,-83.5\"/>\n",
       "<text text-anchor=\"middle\" x=\"341.5\" y=\"-97.8\" font-family=\"Times,serif\" font-size=\"14.00\" fill=\"#000000\">e</text>\n",
       "<polyline fill=\"none\" stroke=\"#000000\" points=\"354,-83.5 354,-119.5 \"/>\n",
       "<text text-anchor=\"middle\" x=\"398.5\" y=\"-97.8\" font-family=\"Times,serif\" font-size=\"14.00\" fill=\"#000000\">data &#45;6.00</text>\n",
       "<polyline fill=\"none\" stroke=\"#000000\" points=\"443,-83.5 443,-119.5 \"/>\n",
       "<text text-anchor=\"middle\" x=\"486\" y=\"-97.8\" font-family=\"Times,serif\" font-size=\"14.00\" fill=\"#000000\">grad 0.00</text>\n",
       "</g>\n",
       "<!-- 140022913951112&#45;&gt;140022913951000+ -->\n",
       "<g id=\"edge5\" class=\"edge\">\n",
       "<title>140022913951112&#45;&gt;140022913951000+</title>\n",
       "<path fill=\"none\" stroke=\"#000000\" d=\"M529.2612,-84.486C539.3361,-82.7763 549.04,-81.1296 557.7327,-79.6545\"/>\n",
       "<polygon fill=\"#000000\" stroke=\"#000000\" points=\"558.5177,-83.0714 567.7912,-77.9476 557.3465,-76.17 558.5177,-83.0714\"/>\n",
       "</g>\n",
       "<!-- 140022913951112*&#45;&gt;140022913951112 -->\n",
       "<g id=\"edge2\" class=\"edge\">\n",
       "<title>140022913951112*&#45;&gt;140022913951112</title>\n",
       "<path fill=\"none\" stroke=\"#000000\" d=\"M291.2464,-101.5C299.2784,-101.5 308.6035,-101.5 318.5426,-101.5\"/>\n",
       "<polygon fill=\"#000000\" stroke=\"#000000\" points=\"318.6612,-105.0001 328.6612,-101.5 318.6611,-98.0001 318.6612,-105.0001\"/>\n",
       "</g>\n",
       "<!-- 140022913812408 -->\n",
       "<g id=\"node8\" class=\"node\">\n",
       "<title>140022913812408</title>\n",
       "<polygon fill=\"none\" stroke=\"#000000\" points=\"983,-27.5 983,-63.5 1184,-63.5 1184,-27.5 983,-27.5\"/>\n",
       "<text text-anchor=\"middle\" x=\"996\" y=\"-41.8\" font-family=\"Times,serif\" font-size=\"14.00\" fill=\"#000000\">L</text>\n",
       "<polyline fill=\"none\" stroke=\"#000000\" points=\"1009,-27.5 1009,-63.5 \"/>\n",
       "<text text-anchor=\"middle\" x=\"1053.5\" y=\"-41.8\" font-family=\"Times,serif\" font-size=\"14.00\" fill=\"#000000\">data &#45;8.00</text>\n",
       "<polyline fill=\"none\" stroke=\"#000000\" points=\"1098,-27.5 1098,-63.5 \"/>\n",
       "<text text-anchor=\"middle\" x=\"1141\" y=\"-41.8\" font-family=\"Times,serif\" font-size=\"14.00\" fill=\"#000000\">grad 1.00</text>\n",
       "</g>\n",
       "<!-- 140022913812408*&#45;&gt;140022913812408 -->\n",
       "<g id=\"edge3\" class=\"edge\">\n",
       "<title>140022913812408*&#45;&gt;140022913812408</title>\n",
       "<path fill=\"none\" stroke=\"#000000\" d=\"M947.3662,-45.5C954.8433,-45.5 963.4313,-45.5 972.5802,-45.5\"/>\n",
       "<polygon fill=\"#000000\" stroke=\"#000000\" points=\"972.702,-49.0001 982.702,-45.5 972.7019,-42.0001 972.702,-49.0001\"/>\n",
       "</g>\n",
       "<!-- 140022913812464 -->\n",
       "<g id=\"node10\" class=\"node\">\n",
       "<title>140022913812464</title>\n",
       "<polygon fill=\"none\" stroke=\"#000000\" points=\"658.5,-.5 658.5,-36.5 855.5,-36.5 855.5,-.5 658.5,-.5\"/>\n",
       "<text text-anchor=\"middle\" x=\"669.5\" y=\"-14.8\" font-family=\"Times,serif\" font-size=\"14.00\" fill=\"#000000\">f</text>\n",
       "<polyline fill=\"none\" stroke=\"#000000\" points=\"680.5,-.5 680.5,-36.5 \"/>\n",
       "<text text-anchor=\"middle\" x=\"725\" y=\"-14.8\" font-family=\"Times,serif\" font-size=\"14.00\" fill=\"#000000\">data &#45;2.00</text>\n",
       "<polyline fill=\"none\" stroke=\"#000000\" points=\"769.5,-.5 769.5,-36.5 \"/>\n",
       "<text text-anchor=\"middle\" x=\"812.5\" y=\"-14.8\" font-family=\"Times,serif\" font-size=\"14.00\" fill=\"#000000\">grad 4.00</text>\n",
       "</g>\n",
       "<!-- 140022913812464&#45;&gt;140022913812408* -->\n",
       "<g id=\"edge6\" class=\"edge\">\n",
       "<title>140022913812464&#45;&gt;140022913812408*</title>\n",
       "<path fill=\"none\" stroke=\"#000000\" d=\"M855.5781,-34.8289C865.4924,-36.4711 875.0536,-38.0549 883.6387,-39.477\"/>\n",
       "<polygon fill=\"#000000\" stroke=\"#000000\" points=\"883.1472,-42.9432 893.5847,-41.1245 884.2911,-36.0373 883.1472,-42.9432\"/>\n",
       "</g>\n",
       "</g>\n",
       "</svg>\n"
      ],
      "text/plain": [
       "<graphviz.graphs.Digraph at 0x7f59a009ca90>"
      ]
     },
     "execution_count": 6,
     "metadata": {},
     "output_type": "execute_result"
    }
   ],
   "source": [
    "f = Value(-2.0)\n",
    "L = d * f\n",
    "L.grad = 1\n",
    "d.grad = -2.0\n",
    "f.grad = 4.0\n",
    "\n",
    "draw_dot_ng(L)"
   ]
  },
  {
   "cell_type": "code",
   "execution_count": null,
   "metadata": {},
   "outputs": [],
   "source": []
  },
  {
   "cell_type": "code",
   "execution_count": 7,
   "metadata": {},
   "outputs": [
    {
     "data": {
      "text/markdown": [
       "# -1.9999999999953388"
      ],
      "text/plain": [
       "<IPython.core.display.Markdown object>"
      ]
     },
     "metadata": {},
     "output_type": "display_data"
    }
   ],
   "source": [
    "def lol():\n",
    "    h = 0.0001\n",
    "    a = Value(2.0)\n",
    "    b = Value(-3.0)\n",
    "    c = Value(10.0)\n",
    "    e = a*b\n",
    "    d = e + c\n",
    "    f = Value(-2.0)\n",
    "    L = d * f\n",
    "    L1 = L.data\n",
    "    #\n",
    "    a = Value(2.0)\n",
    "    b = Value(-3.0)\n",
    "    c = Value(10.0)\n",
    "    e = a*b\n",
    "    d = e + c\n",
    "    d.data += h\n",
    "    f = Value(-2.0 )\n",
    "    L = d * f\n",
    "    L2 = L.data \n",
    "    \n",
    "    print_md('#', (L2 - L1)/h )\n",
    "\n",
    "lol()"
   ]
  },
  {
   "cell_type": "code",
   "execution_count": null,
   "metadata": {},
   "outputs": [],
   "source": []
  }
 ],
 "metadata": {
  "kernelspec": {
   "display_name": "Python 3",
   "language": "python",
   "name": "python3"
  },
  "language_info": {
   "codemirror_mode": {
    "name": "ipython",
    "version": 3
   },
   "file_extension": ".py",
   "mimetype": "text/x-python",
   "name": "python",
   "nbconvert_exporter": "python",
   "pygments_lexer": "ipython3",
   "version": "3.6.9"
  }
 },
 "nbformat": 4,
 "nbformat_minor": 2
}
